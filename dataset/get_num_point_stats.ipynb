{
 "cells": [
  {
   "cell_type": "code",
   "execution_count": 1,
   "metadata": {},
   "outputs": [
    {
     "name": "stdout",
     "output_type": "stream",
     "text": [
      "Jupyter environment detected. Enabling Open3D WebVisualizer.\n",
      "[Open3D INFO] WebRTC GUI backend enabled.\n",
      "[Open3D INFO] WebRTCWindowSystem: HTTP handshake server disabled.\n"
     ]
    }
   ],
   "source": [
    "import sys\n",
    "sys.path.append('.')\n",
    "\n",
    "import os\n",
    "import random\n",
    "\n",
    "import torch\n",
    "import torch.utils.data as data\n",
    "import numpy as np\n",
    "import open3d as o3d"
   ]
  },
  {
   "cell_type": "code",
   "execution_count": 2,
   "metadata": {},
   "outputs": [],
   "source": [
    "MAX_NUM_OBJ = 64\n",
    "MEAN_COLOR_RGB = np.array([109.8, 97.2, 83.8])\n",
    "\n",
    "class ScanNetObjPairScoreCls(data.Dataset):\n",
    "\n",
    "    def __init__(self, split_set='train',\n",
    "        use_color=False, use_height=False, augment=False):\n",
    "\n",
    "        self.data_path = '/home1/peisheng/3detr/scannet_data/scannet/scannet_train_detection_data'\n",
    "        all_scan_names = list(set([os.path.basename(x)[0:12] \\\n",
    "            for x in os.listdir(self.data_path) if x.startswith('scene')]))\n",
    "        if split_set=='all':\n",
    "            self.scan_names = all_scan_names\n",
    "        elif split_set in ['train', 'val', 'test']:\n",
    "            split_filenames = os.path.join('/home1/peisheng/3detr/scannet_data/scannet/meta_data',\n",
    "                'scannetv2_{}.txt'.format(split_set))\n",
    "            with open(split_filenames, 'r') as f:\n",
    "                self.scan_names = f.read().splitlines()\n",
    "            # remove unavailiable scans\n",
    "            num_scans = len(self.scan_names)\n",
    "            self.scan_names = [sname for sname in self.scan_names \\\n",
    "                if sname in all_scan_names]\n",
    "            print('kept {} scans out of {}'.format(len(self.scan_names), num_scans))\n",
    "            num_scans = len(self.scan_names)\n",
    "        else:\n",
    "            print('illegal split name')\n",
    "            return\n",
    "\n",
    "        self.use_color = use_color\n",
    "        self.use_height = use_height\n",
    "        self.augment = augment\n",
    "\n",
    "        # the code above is for scenes, the code below is for objects\n",
    "        self.object_path = '/home1/peisheng/occulusion_sim/DODA/scannet_object_complete_partial'\n",
    "        # loop through all the scenes\n",
    "        self.scene_object_dict = {}\n",
    "\n",
    "        # remove scene0444_01 from the list because there is an error with camera locs\n",
    "        if 'scene0444_01' in self.scan_names:\n",
    "            self.scan_names.remove('scene0444_01')\n",
    "\n",
    "        for scan_name in self.scan_names:\n",
    "            current_file_name = os.path.join(self.object_path, scan_name + '.npy')\n",
    "            scene_objects = np.load(current_file_name, allow_pickle=True).item()\n",
    "            self.scene_object_dict[scan_name] = scene_objects\n",
    "\n",
    "        # scene_objects is a dictionary where the key is the index of the object in the scene, and the value is a dictionary\n",
    "        # with 2 keys: 'complete' and 'partial', where 'complete' has a value of a numpy array of the indexes of points for the\n",
    "        # complete object, and 'partial' has a value of a list of numpy arrays of the indexes of points for the partial objects.\n",
    "        # the length of the dataset is the number of all the partial objects in all the scenes.\n",
    "\n",
    "        # construct a mapping from dataset index to scene name and complete and partial object index\n",
    "        # the mapping should be (scene name, complete object index, partial object index)\n",
    "        self.index_to_scene_object = []\n",
    "        for scan_name in self.scan_names:\n",
    "            scene_objects = self.scene_object_dict[scan_name]\n",
    "            for k, v in scene_objects.items():\n",
    "                if len(v['partial']) > 0:\n",
    "                    for i, partial_object_point_index in enumerate(v['partial']):\n",
    "                        self.index_to_scene_object.append((scan_name, k, i))\n",
    "\n",
    "    def __getitem__(self, index):\n",
    "\n",
    "        scan_name = self.index_to_scene_object[index][0]\n",
    "        mesh_vertices = np.load(os.path.join(self.data_path, scan_name)+'_vert.npy')\n",
    "        instance_bboxes = np.load(os.path.join(self.data_path, scan_name)+'_bbox.npy')\n",
    "\n",
    "        scan_name, complete_index, partial_index = self.index_to_scene_object[index]\n",
    "        complete_object_point_index = self.scene_object_dict[scan_name][complete_index]['complete']\n",
    "        partial_object_point_index = self.scene_object_dict[scan_name][complete_index]['partial'][partial_index]\n",
    "\n",
    "        # index of the object is the complete object index. Get the class label of the object\n",
    "        class_label = instance_bboxes[complete_index][-1]\n",
    "        # convert to int\n",
    "        class_label = int(class_label)\n",
    "        # to tensor\n",
    "        class_label = torch.tensor(class_label, dtype=torch.long)\n",
    "\n",
    "        if not self.use_color:\n",
    "            point_cloud = mesh_vertices[:,0:3] # do not use color for now\n",
    "            pcl_color = mesh_vertices[:,3:6]\n",
    "        else:\n",
    "            point_cloud = mesh_vertices[:,0:6]\n",
    "            point_cloud[:,3:] = (point_cloud[:,3:]-MEAN_COLOR_RGB)/256.0\n",
    "\n",
    "        complete_object_point_cloud = point_cloud[complete_object_point_index]\n",
    "        partial_object_point_cloud = point_cloud[partial_object_point_index]\n",
    "\n",
    "        # score is the ratio of the number of points in the partial object to the number of points in the complete object\n",
    "        score = partial_object_point_cloud.shape[0] / complete_object_point_cloud.shape[0]\n",
    "        # convert to torch tensor\n",
    "        score = torch.tensor(score, dtype=torch.float32)\n",
    "\n",
    "        # normalize complete object point cloud\n",
    "        complete_object_point_cloud[:,0:3], complete_centroid, complete_m = self.normalize_point_cloud(complete_object_point_cloud[:,0:3])\n",
    "\n",
    "        # use complete object centroid and m to normalize partial object point cloud\n",
    "        partial_object_point_cloud[:,0:3] = (partial_object_point_cloud[:,0:3] - complete_centroid) / complete_m\n",
    "\n",
    "        # partial_pc = self.random_sample(partial_object_point_cloud, 2048) # TODO these two numbers might need to be changed\n",
    "        # complete_pc = self.random_sample(complete_object_point_cloud, 16384)\n",
    "\n",
    "\n",
    "        # return torch.from_numpy(partial_pc), torch.from_numpy(complete_pc), score, class_label\n",
    "        return torch.from_numpy(partial_object_point_cloud), torch.from_numpy(complete_object_point_cloud), score, class_label\n",
    "\n",
    "    def __len__(self):\n",
    "        return len(self.index_to_scene_object) # 154751\n",
    "    # 20 times more than shapenet, so should use 1/20 epoch number, and save every 1 epoch.\n",
    "\n",
    "    def random_sample(self, pc, n):\n",
    "        idx = np.random.permutation(pc.shape[0])\n",
    "        if idx.shape[0] < n:\n",
    "            idx = np.concatenate([idx, np.random.randint(pc.shape[0], size=n-pc.shape[0])])\n",
    "        return pc[idx[:n]]\n",
    "\n",
    "    def normalize_point_cloud(self, pc):\n",
    "        centroid = np.mean(pc, axis=0)\n",
    "        pc = pc - centroid\n",
    "        m = np.max(np.sqrt(np.sum(pc**2, axis=1)))\n",
    "        pc = pc / m\n",
    "        return pc, centroid, m\n"
   ]
  },
  {
   "cell_type": "code",
   "execution_count": 6,
   "metadata": {},
   "outputs": [
    {
     "name": "stdout",
     "output_type": "stream",
     "text": [
      "kept 1199 scans out of 1201\n",
      "0\n",
      "1000\n",
      "2000\n",
      "3000\n",
      "4000\n",
      "5000\n",
      "6000\n",
      "7000\n",
      "8000\n",
      "9000\n",
      "10000\n",
      "11000\n",
      "12000\n",
      "13000\n",
      "14000\n",
      "15000\n",
      "16000\n",
      "17000\n",
      "18000\n",
      "19000\n",
      "20000\n",
      "21000\n",
      "22000\n",
      "23000\n",
      "24000\n",
      "25000\n",
      "26000\n",
      "27000\n",
      "28000\n",
      "29000\n",
      "30000\n",
      "31000\n",
      "32000\n",
      "33000\n",
      "34000\n",
      "35000\n",
      "36000\n",
      "37000\n",
      "38000\n",
      "39000\n",
      "40000\n",
      "41000\n",
      "42000\n",
      "43000\n",
      "44000\n",
      "45000\n",
      "46000\n",
      "47000\n",
      "48000\n",
      "49000\n",
      "50000\n",
      "51000\n",
      "52000\n",
      "53000\n",
      "54000\n",
      "55000\n",
      "56000\n",
      "57000\n",
      "58000\n",
      "59000\n",
      "60000\n",
      "61000\n",
      "62000\n",
      "63000\n",
      "64000\n",
      "65000\n",
      "66000\n",
      "67000\n",
      "68000\n",
      "69000\n",
      "70000\n",
      "71000\n",
      "72000\n",
      "73000\n",
      "74000\n",
      "75000\n",
      "76000\n",
      "77000\n",
      "78000\n",
      "79000\n",
      "80000\n",
      "81000\n",
      "82000\n",
      "83000\n",
      "84000\n",
      "85000\n",
      "86000\n",
      "87000\n",
      "88000\n",
      "89000\n",
      "90000\n",
      "91000\n",
      "92000\n",
      "93000\n",
      "94000\n",
      "95000\n",
      "96000\n",
      "97000\n",
      "98000\n",
      "99000\n",
      "100000\n",
      "101000\n",
      "102000\n",
      "103000\n",
      "104000\n",
      "105000\n",
      "106000\n",
      "107000\n",
      "108000\n",
      "109000\n",
      "110000\n",
      "111000\n",
      "112000\n",
      "113000\n",
      "114000\n",
      "115000\n",
      "116000\n",
      "117000\n",
      "118000\n",
      "119000\n",
      "120000\n",
      "121000\n",
      "122000\n",
      "123000\n",
      "124000\n",
      "125000\n",
      "126000\n",
      "127000\n",
      "128000\n",
      "129000\n",
      "130000\n",
      "131000\n",
      "132000\n",
      "133000\n",
      "134000\n",
      "135000\n",
      "136000\n",
      "137000\n",
      "138000\n",
      "139000\n",
      "140000\n",
      "141000\n",
      "142000\n",
      "143000\n",
      "144000\n",
      "145000\n",
      "146000\n",
      "147000\n",
      "148000\n",
      "149000\n",
      "150000\n",
      "151000\n",
      "152000\n",
      "153000\n",
      "154000\n"
     ]
    }
   ],
   "source": [
    "dataset = ScanNetObjPairScoreCls('train')\n",
    "ds_len = len(dataset)\n",
    "partial_num_pt_list = []\n",
    "complete_num_pt_list = []\n",
    "for i in range(ds_len):\n",
    "    if i % 1000 == 0:\n",
    "        print(i)\n",
    "    partial_pc, complete_pc, score, class_label = dataset[i]\n",
    "    partial_num_pts = partial_pc.shape[0]\n",
    "    complete_num_pts = complete_pc.shape[0]\n",
    "    partial_num_pt_list.append(partial_num_pts)\n",
    "    complete_num_pt_list.append(complete_num_pts)\n",
    "\n",
    "partial_num_pt_list = np.array(partial_num_pt_list)\n",
    "complete_num_pt_list = np.array(complete_num_pt_list)"
   ]
  },
  {
   "cell_type": "code",
   "execution_count": 9,
   "metadata": {},
   "outputs": [
    {
     "data": {
      "text/plain": [
       "869.5723194034288"
      ]
     },
     "execution_count": 9,
     "metadata": {},
     "output_type": "execute_result"
    }
   ],
   "source": [
    "# average partial_num_pt_list\n",
    "partial_num_pt_list.mean()"
   ]
  },
  {
   "cell_type": "code",
   "execution_count": 10,
   "metadata": {},
   "outputs": [
    {
     "data": {
      "text/plain": [
       "2223.018597618109"
      ]
     },
     "execution_count": 10,
     "metadata": {},
     "output_type": "execute_result"
    }
   ],
   "source": [
    "# average complete_num_pt_list\n",
    "complete_num_pt_list.mean()"
   ]
  },
  {
   "cell_type": "code",
   "execution_count": 15,
   "metadata": {},
   "outputs": [
    {
     "data": {
      "image/png": "[encoded data removed]",
      "text/plain": [
       "<Figure size 640x480 with 1 Axes>"
      ]
     },
     "metadata": {},
     "output_type": "display_data"
    },
    {
     "name": "stdout",
     "output_type": "stream",
     "text": [
      "mean: 869.5723194034288, std: 1011.6020020721073\n"
     ]
    },
    {
     "data": {
      "text/plain": [
       "519.0"
      ]
     },
     "execution_count": 15,
     "metadata": {},
     "output_type": "execute_result"
    }
   ],
   "source": [
    "# plot the distribution of the number of points in the partial object\n",
    "import matplotlib.pyplot as plt\n",
    "plt.hist(partial_num_pt_list, bins=100)\n",
    "plt.show()\n",
    "\n",
    "# print the mean and std of the number of points in the partial object\n",
    "partial_num_pt_list.mean()\n",
    "partial_num_pt_list.std()\n",
    "print('mean: {}, std: {}'.format(partial_num_pt_list.mean(), partial_num_pt_list.std()))\n",
    "\n",
    "# print the median of the number of points in the partial object\n",
    "np.median(partial_num_pt_list)"
   ]
  },
  {
   "cell_type": "code",
   "execution_count": 16,
   "metadata": {},
   "outputs": [
    {
     "data": {
      "image/png": "[encoded data removed]",
      "text/plain": [
       "<Figure size 640x480 with 1 Axes>"
      ]
     },
     "metadata": {},
     "output_type": "display_data"
    },
    {
     "name": "stdout",
     "output_type": "stream",
     "text": [
      "mean: 2223.018597618109, std: 2570.521462461467\n"
     ]
    },
    {
     "data": {
      "text/plain": [
       "1397.0"
      ]
     },
     "execution_count": 16,
     "metadata": {},
     "output_type": "execute_result"
    }
   ],
   "source": [
    "# repeat for the complete object\n",
    "plt.hist(complete_num_pt_list, bins=100)\n",
    "plt.show()\n",
    "\n",
    "complete_num_pt_list.mean()\n",
    "complete_num_pt_list.std()\n",
    "print('mean: {}, std: {}'.format(complete_num_pt_list.mean(), complete_num_pt_list.std()))\n",
    "\n",
    "# print median of the number of points in the complete object\n",
    "np.median(complete_num_pt_list)"
   ]
  },
  {
   "cell_type": "code",
   "execution_count": null,
   "metadata": {},
   "outputs": [],
   "source": [
    "# how many points do shapenet have?\n",
    "# complete 16384, and all points are sampled.\n",
    "# partial: the max is 2047. mean 1175, std 340, median 1138"
   ]
  },
  {
   "cell_type": "code",
   "execution_count": 14,
   "metadata": {},
   "outputs": [
    {
     "data": {
      "text/plain": [
       "9934.58298500251"
      ]
     },
     "execution_count": 14,
     "metadata": {},
     "output_type": "execute_result"
    }
   ],
   "source": [
    "complete_num_pt_list.mean() + 3 * complete_num_pt_list.std()"
   ]
  },
  {
   "cell_type": "code",
   "execution_count": null,
   "metadata": {},
   "outputs": [],
   "source": []
  }
 ],
 "metadata": {
  "kernelspec": {
   "display_name": "occ",
   "language": "python",
   "name": "python3"
  },
  "language_info": {
   "codemirror_mode": {
    "name": "ipython",
    "version": 3
   },
   "file_extension": ".py",
   "mimetype": "text/x-python",
   "name": "python",
   "nbconvert_exporter": "python",
   "pygments_lexer": "ipython3",
   "version": "3.10.14"
  }
 },
 "nbformat": 4,
 "nbformat_minor": 2
}
