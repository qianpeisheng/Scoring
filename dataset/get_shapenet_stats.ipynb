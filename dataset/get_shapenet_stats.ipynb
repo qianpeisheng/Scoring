{
 "cells": [
  {
   "cell_type": "code",
   "execution_count": 2,
   "metadata": {},
   "outputs": [],
   "source": [
    "import sys\n",
    "sys.path.append('.')\n",
    "\n",
    "import os\n",
    "import random\n",
    "\n",
    "import torch\n",
    "import torch.utils.data as data\n",
    "import numpy as np\n",
    "import open3d as o3d"
   ]
  },
  {
   "cell_type": "code",
   "execution_count": 3,
   "metadata": {},
   "outputs": [],
   "source": [
    "class ShapeNet(data.Dataset):\n",
    "    \"\"\"\n",
    "    ShapeNet dataset in \"PCN: Point Completion Network\". It contains 28974 training\n",
    "    samples while each complete samples corresponds to 8 viewpoint partial scans, 800\n",
    "    validation samples and 1200 testing samples.\n",
    "    \"\"\"\n",
    "\n",
    "    def __init__(self, dataroot, split, category):\n",
    "        assert split in ['train', 'valid', 'test', 'test_novel'], \"split error value!\"\n",
    "\n",
    "        self.cat2id = {\n",
    "            # seen categories\n",
    "            \"airplane\"  : \"02691156\",  # plane\n",
    "            \"cabinet\"   : \"02933112\",  # dresser\n",
    "            \"car\"       : \"02958343\",\n",
    "            \"chair\"     : \"03001627\",\n",
    "            \"lamp\"      : \"03636649\",\n",
    "            \"sofa\"      : \"04256520\",\n",
    "            \"table\"     : \"04379243\",\n",
    "            \"vessel\"    : \"04530566\",  # boat\n",
    "\n",
    "            # alis for some seen categories\n",
    "            \"boat\"      : \"04530566\",  # vessel\n",
    "            \"couch\"     : \"04256520\",  # sofa\n",
    "            \"dresser\"   : \"02933112\",  # cabinet\n",
    "            \"airplane\"  : \"02691156\",  # airplane\n",
    "            \"watercraft\": \"04530566\",  # boat\n",
    "\n",
    "            # unseen categories\n",
    "            \"bus\"       : \"02924116\",\n",
    "            \"bed\"       : \"02818832\",\n",
    "            \"bookshelf\" : \"02871439\",\n",
    "            \"bench\"     : \"02828884\",\n",
    "            \"guitar\"    : \"03467517\",\n",
    "            \"motorbike\" : \"03790512\",\n",
    "            \"skateboard\": \"04225987\",\n",
    "            \"pistol\"    : \"03948459\",\n",
    "        }\n",
    "\n",
    "        # self.id2cat = {cat_id: cat for cat, cat_id in self.cat2id.items()}\n",
    "\n",
    "        self.dataroot = dataroot\n",
    "        self.split = split\n",
    "        self.category = category\n",
    "\n",
    "        self.partial_paths, self.complete_paths = self._load_data()\n",
    "\n",
    "    def __getitem__(self, index):\n",
    "        if self.split == 'train':\n",
    "            partial_path = self.partial_paths[index].format(random.randint(0, 7))\n",
    "        else:\n",
    "            partial_path = self.partial_paths[index]\n",
    "        complete_path = self.complete_paths[index]\n",
    "\n",
    "        # get the point cloud without random sampling and return them\n",
    "        partial_pc = self.read_point_cloud(partial_path)\n",
    "        complete_pc = self.read_point_cloud(complete_path)\n",
    "\n",
    "        # partial_pc = self.random_sample(self.read_point_cloud(partial_path), 2048)\n",
    "        # complete_pc = self.random_sample(self.read_point_cloud(complete_path), 16384)\n",
    "\n",
    "        return torch.from_numpy(partial_pc), torch.from_numpy(complete_pc)\n",
    "\n",
    "    def __len__(self):\n",
    "        return len(self.complete_paths) # 3795\n",
    "\n",
    "    def _load_data(self):\n",
    "        with open(os.path.join(self.dataroot, '{}.list').format(self.split), 'r') as f:\n",
    "            lines = f.read().splitlines()\n",
    "\n",
    "        if self.category != 'all':\n",
    "            lines = list(filter(lambda x: x.startswith(self.cat2id[self.category]), lines))\n",
    "\n",
    "        partial_paths, complete_paths = list(), list()\n",
    "\n",
    "        for line in lines:\n",
    "            category, model_id = line.split('/')\n",
    "            if self.split == 'train':\n",
    "                partial_paths.append(os.path.join(self.dataroot, self.split, 'partial', category, model_id + '_{}.ply'))\n",
    "            else:\n",
    "                partial_paths.append(os.path.join(self.dataroot, self.split, 'partial', category, model_id + '.ply'))\n",
    "            complete_paths.append(os.path.join(self.dataroot, self.split, 'complete', category, model_id + '.ply'))\n",
    "\n",
    "        return partial_paths, complete_paths\n",
    "\n",
    "    def read_point_cloud(self, path):\n",
    "        pc = o3d.io.read_point_cloud(path)\n",
    "        return np.array(pc.points, np.float32)\n",
    "\n",
    "    def random_sample(self, pc, n):\n",
    "        idx = np.random.permutation(pc.shape[0])\n",
    "        if idx.shape[0] < n:\n",
    "            idx = np.concatenate([idx, np.random.randint(pc.shape[0], size=n-pc.shape[0])])\n",
    "        return pc[idx[:n]]"
   ]
  },
  {
   "cell_type": "code",
   "execution_count": 8,
   "metadata": {},
   "outputs": [
    {
     "name": "stdout",
     "output_type": "stream",
     "text": [
      "3795\n",
      "0\n",
      "100\n",
      "200\n",
      "300\n",
      "400\n",
      "500\n",
      "600\n",
      "700\n",
      "800\n",
      "900\n",
      "1000\n",
      "1100\n",
      "1200\n",
      "1300\n",
      "1400\n",
      "1500\n",
      "1600\n",
      "1700\n",
      "1800\n",
      "1900\n",
      "2000\n",
      "2100\n",
      "2200\n",
      "2300\n",
      "2400\n",
      "2500\n",
      "2600\n",
      "2700\n",
      "2800\n",
      "2900\n",
      "3000\n",
      "3100\n",
      "3200\n",
      "3300\n",
      "3400\n",
      "3500\n",
      "3600\n",
      "3700\n",
      "1174.933860342556 16384.0\n",
      "339.93188436454057 0.0\n"
     ]
    }
   ],
   "source": [
    "dataset = ShapeNet('../data/PCN', 'train', 'airplane')\n",
    "ds_len = len(dataset)\n",
    "print(ds_len)\n",
    "partial_pc_num_pt_list = []\n",
    "complete_pc_num_pt_list = []\n",
    "for i in range(ds_len):\n",
    "    if i % 100 == 0:\n",
    "        print(i)\n",
    "    partial_pc, complete_pc = dataset[i]\n",
    "    partial_pc_num_pt_list.append(partial_pc.shape[0])\n",
    "    complete_pc_num_pt_list.append(complete_pc.shape[0])\n",
    "\n",
    "# print average of partial_pc and complete_pc\n",
    "print(np.mean(partial_pc_num_pt_list), np.mean(complete_pc_num_pt_list))\n",
    "# print std of partial_pc and complete_pc\n",
    "print(np.std(partial_pc_num_pt_list), np.std(complete_pc_num_pt_list))\n",
    "# print(partial_pc.min(), partial_pc.max())\n",
    "# print(complete_pc.min(), complete_pc.max())\n",
    "# # print std of partial_pc and complete_pc\n",
    "# print(partial_pc.std(), complete_pc.std())\n",
    "\n",
    "# # print mean of partial_pc and complete_pc\n",
    "# print(partial_pc.mean(), complete_pc.mean())"
   ]
  },
  {
   "cell_type": "code",
   "execution_count": 9,
   "metadata": {},
   "outputs": [
    {
     "data": {
      "image/png": "[encoded data removed]",
      "text/plain": [
       "<Figure size 640x480 with 1 Axes>"
      ]
     },
     "metadata": {},
     "output_type": "display_data"
    }
   ],
   "source": [
    "# plot the distribution of partial_pc number of points\n",
    "import matplotlib.pyplot as plt\n",
    "plt.hist(partial_pc_num_pt_list, bins=50)\n",
    "plt.show()"
   ]
  },
  {
   "cell_type": "code",
   "execution_count": 11,
   "metadata": {},
   "outputs": [
    {
     "name": "stdout",
     "output_type": "stream",
     "text": [
      "2047\n",
      "1138.0\n"
     ]
    }
   ],
   "source": [
    "# print max of partial_pc number of points\n",
    "print(max(partial_pc_num_pt_list))\n",
    "\n",
    "# print the median of partial_pc number of points\n",
    "print(np.median(partial_pc_num_pt_list))"
   ]
  },
  {
   "cell_type": "code",
   "execution_count": null,
   "metadata": {},
   "outputs": [],
   "source": []
  }
 ],
 "metadata": {
  "kernelspec": {
   "display_name": "occ",
   "language": "python",
   "name": "python3"
  },
  "language_info": {
   "codemirror_mode": {
    "name": "ipython",
    "version": 3
   },
   "file_extension": ".py",
   "mimetype": "text/x-python",
   "name": "python",
   "nbconvert_exporter": "python",
   "pygments_lexer": "ipython3",
   "version": "3.10.14"
  }
 },
 "nbformat": 4,
 "nbformat_minor": 2
}
